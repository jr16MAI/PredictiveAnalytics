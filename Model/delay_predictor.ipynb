{
 "cells": [
  {
   "cell_type": "code",
   "id": "initial_id",
   "metadata": {
    "collapsed": true,
    "ExecuteTime": {
     "end_time": "2024-05-17T14:20:05.430366Z",
     "start_time": "2024-05-17T14:20:05.122320Z"
    }
   },
   "source": [
    "import pandas as pd\n",
    "from prophet import Prophet\n"
   ],
   "outputs": [],
   "execution_count": 3
  },
  {
   "metadata": {
    "ExecuteTime": {
     "end_time": "2024-05-17T14:21:38.135556Z",
     "start_time": "2024-05-17T14:21:38.086784Z"
    }
   },
   "cell_type": "code",
   "source": "df_flights = pd.read_csv('../FlightData/flights_SFO_UA.csv')",
   "id": "fe3476cf18b2fcb9",
   "outputs": [],
   "execution_count": 4
  },
  {
   "metadata": {},
   "cell_type": "code",
   "outputs": [],
   "execution_count": null,
   "source": "",
   "id": "cb39b8061371b1af"
  }
 ],
 "metadata": {
  "kernelspec": {
   "display_name": "Python 3",
   "language": "python",
   "name": "python3"
  },
  "language_info": {
   "codemirror_mode": {
    "name": "ipython",
    "version": 2
   },
   "file_extension": ".py",
   "mimetype": "text/x-python",
   "name": "python",
   "nbconvert_exporter": "python",
   "pygments_lexer": "ipython2",
   "version": "2.7.6"
  }
 },
 "nbformat": 4,
 "nbformat_minor": 5
}
