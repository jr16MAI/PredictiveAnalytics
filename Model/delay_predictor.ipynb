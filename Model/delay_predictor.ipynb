{
 "cells": [
  {
   "cell_type": "code",
   "id": "initial_id",
   "metadata": {
    "collapsed": true,
    "ExecuteTime": {
     "end_time": "2024-05-17T13:45:45.436949Z",
     "start_time": "2024-05-17T13:45:45.198896Z"
    }
   },
   "source": [
    "import pandas as pd\n",
    "import os"
   ],
   "outputs": [],
   "execution_count": 2
  },
  {
   "metadata": {
    "ExecuteTime": {
     "end_time": "2024-05-17T13:47:27.208419Z",
     "start_time": "2024-05-17T13:47:16.472367Z"
    }
   },
   "cell_type": "code",
   "source": [
    "folder_path = '/Users/judith.rethmann/Documents/MBS/PredictiveAnalytics/FlightData'\n",
    "\n",
    "dataframes = []\n",
    "\n",
    "for filename in os.listdir(folder_path):\n",
    "    if filename.startswith('T_ONTIME_REPORTING') and filename.endswith('.csv'):\n",
    "        file_path = os.path.join(folder_path, filename)\n",
    "        df = pd.read_csv(file_path)\n",
    "        dataframes.append(df)\n",
    "\n",
    "common_columns = set(dataframes[0].columns)\n",
    "for df in dataframes[1:]:\n",
    "    common_columns.intersection_update(df.columns)\n",
    "\n",
    "common_columns = list(common_columns)\n",
    "df_flight_data = pd.concat([df[common_columns] for df in dataframes], ignore_index=True)"
   ],
   "id": "a27818a71a6b0838",
   "outputs": [],
   "execution_count": 6
  },
  {
   "metadata": {
    "ExecuteTime": {
     "end_time": "2024-05-17T13:47:29.751769Z",
     "start_time": "2024-05-17T13:47:29.743589Z"
    }
   },
   "cell_type": "code",
   "source": "df_flight_data.info()",
   "id": "e590021095c95ecf",
   "outputs": [
    {
     "name": "stdout",
     "output_type": "stream",
     "text": [
      "<class 'pandas.core.frame.DataFrame'>\n",
      "RangeIndex: 5762468 entries, 0 to 5762467\n",
      "Data columns (total 15 columns):\n",
      " #   Column             Dtype  \n",
      "---  ------             -----  \n",
      " 0   DEP_DEL15          float64\n",
      " 1   DAY_OF_WEEK        int64  \n",
      " 2   FL_DATE            object \n",
      " 3   OP_CARRIER_FL_NUM  int64  \n",
      " 4   ORIGIN_CITY_NAME   object \n",
      " 5   DEST_AIRPORT_ID    int64  \n",
      " 6   MONTH              int64  \n",
      " 7   DAY_OF_MONTH       int64  \n",
      " 8   DEST_CITY_NAME     object \n",
      " 9   ORIGIN_AIRPORT_ID  int64  \n",
      " 10  DEP_TIME           float64\n",
      " 11  DEP_DELAY          float64\n",
      " 12  YEAR               int64  \n",
      " 13  OP_UNIQUE_CARRIER  object \n",
      " 14  AIR_TIME           float64\n",
      "dtypes: float64(4), int64(7), object(4)\n",
      "memory usage: 659.5+ MB\n"
     ]
    }
   ],
   "execution_count": 7
  },
  {
   "metadata": {
    "ExecuteTime": {
     "end_time": "2024-05-17T13:45:56.061930Z",
     "start_time": "2024-05-17T13:45:55.467409Z"
    }
   },
   "cell_type": "code",
   "source": "df_flights_SFO_UA = df_flight_data[(df_flight_data['ORIGIN_CITY_NAME'] == 'San Francisco, CA') & (df_flight_data['OP_UNIQUE_CARRIER'] == 'UA') & (df_flight_data['CANCELLED'] == 0) & (df_flight_data['DIVERTED'] == 0)]\n",
   "id": "fad115e7c68f7dfd",
   "outputs": [
    {
     "ename": "KeyError",
     "evalue": "'CANCELLED'",
     "output_type": "error",
     "traceback": [
      "\u001B[0;31m---------------------------------------------------------------------------\u001B[0m",
      "\u001B[0;31mKeyError\u001B[0m                                  Traceback (most recent call last)",
      "File \u001B[0;32m~/Library/Caches/pypoetry/virtualenvs/pythonproject-_Wdx5WR7-py3.11/lib/python3.11/site-packages/pandas/core/indexes/base.py:3805\u001B[0m, in \u001B[0;36mIndex.get_loc\u001B[0;34m(self, key)\u001B[0m\n\u001B[1;32m   3804\u001B[0m \u001B[38;5;28;01mtry\u001B[39;00m:\n\u001B[0;32m-> 3805\u001B[0m     \u001B[38;5;28;01mreturn\u001B[39;00m \u001B[38;5;28;43mself\u001B[39;49m\u001B[38;5;241;43m.\u001B[39;49m\u001B[43m_engine\u001B[49m\u001B[38;5;241;43m.\u001B[39;49m\u001B[43mget_loc\u001B[49m\u001B[43m(\u001B[49m\u001B[43mcasted_key\u001B[49m\u001B[43m)\u001B[49m\n\u001B[1;32m   3806\u001B[0m \u001B[38;5;28;01mexcept\u001B[39;00m \u001B[38;5;167;01mKeyError\u001B[39;00m \u001B[38;5;28;01mas\u001B[39;00m err:\n",
      "File \u001B[0;32mindex.pyx:167\u001B[0m, in \u001B[0;36mpandas._libs.index.IndexEngine.get_loc\u001B[0;34m()\u001B[0m\n",
      "File \u001B[0;32mindex.pyx:196\u001B[0m, in \u001B[0;36mpandas._libs.index.IndexEngine.get_loc\u001B[0;34m()\u001B[0m\n",
      "File \u001B[0;32mpandas/_libs/hashtable_class_helper.pxi:7081\u001B[0m, in \u001B[0;36mpandas._libs.hashtable.PyObjectHashTable.get_item\u001B[0;34m()\u001B[0m\n",
      "File \u001B[0;32mpandas/_libs/hashtable_class_helper.pxi:7089\u001B[0m, in \u001B[0;36mpandas._libs.hashtable.PyObjectHashTable.get_item\u001B[0;34m()\u001B[0m\n",
      "\u001B[0;31mKeyError\u001B[0m: 'CANCELLED'",
      "\nThe above exception was the direct cause of the following exception:\n",
      "\u001B[0;31mKeyError\u001B[0m                                  Traceback (most recent call last)",
      "Cell \u001B[0;32mIn[4], line 1\u001B[0m\n\u001B[0;32m----> 1\u001B[0m df_flights_SFO_UA \u001B[38;5;241m=\u001B[39m df_flight_data[(df_flight_data[\u001B[38;5;124m'\u001B[39m\u001B[38;5;124mORIGIN_CITY_NAME\u001B[39m\u001B[38;5;124m'\u001B[39m] \u001B[38;5;241m==\u001B[39m \u001B[38;5;124m'\u001B[39m\u001B[38;5;124mSan Francisco, CA\u001B[39m\u001B[38;5;124m'\u001B[39m) \u001B[38;5;241m&\u001B[39m (df_flight_data[\u001B[38;5;124m'\u001B[39m\u001B[38;5;124mOP_UNIQUE_CARRIER\u001B[39m\u001B[38;5;124m'\u001B[39m] \u001B[38;5;241m==\u001B[39m \u001B[38;5;124m'\u001B[39m\u001B[38;5;124mUA\u001B[39m\u001B[38;5;124m'\u001B[39m) \u001B[38;5;241m&\u001B[39m (\u001B[43mdf_flight_data\u001B[49m\u001B[43m[\u001B[49m\u001B[38;5;124;43m'\u001B[39;49m\u001B[38;5;124;43mCANCELLED\u001B[39;49m\u001B[38;5;124;43m'\u001B[39;49m\u001B[43m]\u001B[49m \u001B[38;5;241m==\u001B[39m \u001B[38;5;241m0\u001B[39m) \u001B[38;5;241m&\u001B[39m (df_flight_data[\u001B[38;5;124m'\u001B[39m\u001B[38;5;124mDIVERTED\u001B[39m\u001B[38;5;124m'\u001B[39m] \u001B[38;5;241m==\u001B[39m \u001B[38;5;241m0\u001B[39m)]\n",
      "File \u001B[0;32m~/Library/Caches/pypoetry/virtualenvs/pythonproject-_Wdx5WR7-py3.11/lib/python3.11/site-packages/pandas/core/frame.py:4102\u001B[0m, in \u001B[0;36mDataFrame.__getitem__\u001B[0;34m(self, key)\u001B[0m\n\u001B[1;32m   4100\u001B[0m \u001B[38;5;28;01mif\u001B[39;00m \u001B[38;5;28mself\u001B[39m\u001B[38;5;241m.\u001B[39mcolumns\u001B[38;5;241m.\u001B[39mnlevels \u001B[38;5;241m>\u001B[39m \u001B[38;5;241m1\u001B[39m:\n\u001B[1;32m   4101\u001B[0m     \u001B[38;5;28;01mreturn\u001B[39;00m \u001B[38;5;28mself\u001B[39m\u001B[38;5;241m.\u001B[39m_getitem_multilevel(key)\n\u001B[0;32m-> 4102\u001B[0m indexer \u001B[38;5;241m=\u001B[39m \u001B[38;5;28;43mself\u001B[39;49m\u001B[38;5;241;43m.\u001B[39;49m\u001B[43mcolumns\u001B[49m\u001B[38;5;241;43m.\u001B[39;49m\u001B[43mget_loc\u001B[49m\u001B[43m(\u001B[49m\u001B[43mkey\u001B[49m\u001B[43m)\u001B[49m\n\u001B[1;32m   4103\u001B[0m \u001B[38;5;28;01mif\u001B[39;00m is_integer(indexer):\n\u001B[1;32m   4104\u001B[0m     indexer \u001B[38;5;241m=\u001B[39m [indexer]\n",
      "File \u001B[0;32m~/Library/Caches/pypoetry/virtualenvs/pythonproject-_Wdx5WR7-py3.11/lib/python3.11/site-packages/pandas/core/indexes/base.py:3812\u001B[0m, in \u001B[0;36mIndex.get_loc\u001B[0;34m(self, key)\u001B[0m\n\u001B[1;32m   3807\u001B[0m     \u001B[38;5;28;01mif\u001B[39;00m \u001B[38;5;28misinstance\u001B[39m(casted_key, \u001B[38;5;28mslice\u001B[39m) \u001B[38;5;129;01mor\u001B[39;00m (\n\u001B[1;32m   3808\u001B[0m         \u001B[38;5;28misinstance\u001B[39m(casted_key, abc\u001B[38;5;241m.\u001B[39mIterable)\n\u001B[1;32m   3809\u001B[0m         \u001B[38;5;129;01mand\u001B[39;00m \u001B[38;5;28many\u001B[39m(\u001B[38;5;28misinstance\u001B[39m(x, \u001B[38;5;28mslice\u001B[39m) \u001B[38;5;28;01mfor\u001B[39;00m x \u001B[38;5;129;01min\u001B[39;00m casted_key)\n\u001B[1;32m   3810\u001B[0m     ):\n\u001B[1;32m   3811\u001B[0m         \u001B[38;5;28;01mraise\u001B[39;00m InvalidIndexError(key)\n\u001B[0;32m-> 3812\u001B[0m     \u001B[38;5;28;01mraise\u001B[39;00m \u001B[38;5;167;01mKeyError\u001B[39;00m(key) \u001B[38;5;28;01mfrom\u001B[39;00m \u001B[38;5;21;01merr\u001B[39;00m\n\u001B[1;32m   3813\u001B[0m \u001B[38;5;28;01mexcept\u001B[39;00m \u001B[38;5;167;01mTypeError\u001B[39;00m:\n\u001B[1;32m   3814\u001B[0m     \u001B[38;5;66;03m# If we have a listlike key, _check_indexing_error will raise\u001B[39;00m\n\u001B[1;32m   3815\u001B[0m     \u001B[38;5;66;03m#  InvalidIndexError. Otherwise we fall through and re-raise\u001B[39;00m\n\u001B[1;32m   3816\u001B[0m     \u001B[38;5;66;03m#  the TypeError.\u001B[39;00m\n\u001B[1;32m   3817\u001B[0m     \u001B[38;5;28mself\u001B[39m\u001B[38;5;241m.\u001B[39m_check_indexing_error(key)\n",
      "\u001B[0;31mKeyError\u001B[0m: 'CANCELLED'"
     ]
    }
   ],
   "execution_count": 4
  },
  {
   "metadata": {
    "ExecuteTime": {
     "end_time": "2024-05-17T13:45:56.062746Z",
     "start_time": "2024-05-17T13:45:56.062698Z"
    }
   },
   "cell_type": "code",
   "source": "df_flights_SFO_UA.info()",
   "id": "fdd6f5e6fcaec826",
   "outputs": [],
   "execution_count": null
  },
  {
   "metadata": {},
   "cell_type": "code",
   "source": [
    "'''columns_to_keep = [\n",
    "    'ORIGIN_CITY_NAME', 'ORIGIN_AIRPORT_ID', 'OP_UNIQUE_CARRIER', 'OP_CARRIER_FL_NUM',\n",
    "    'FL_DATE', 'YEAR', 'MONTH', 'DAY_OF_MONTH', 'DAY_OF_WEEK', 'DEST_CITY_NAME',\n",
    "    'DEST_AIRPORT_ID', 'AIR_TIME', 'DEP_TIME', 'DIVERTED', 'CANCELLED', 'DEP_DELAY',\n",
    "    'DEP_DEL15', 'NAS_DELAY', 'CARRIER_DELAY', 'SECURITY_DELAY', 'WEATHER_DELAY'\n",
    "]'''\n",
    "\n",
    "columns_to_keep = [\n",
    "    'ORIGIN_CITY_NAME', 'ORIGIN_AIRPORT_ID', 'OP_UNIQUE_CARRIER', 'OP_CARRIER_FL_NUM',\n",
    "    'FL_DATE', 'YEAR', 'MONTH', 'DAY_OF_MONTH', 'DAY_OF_WEEK', 'DEST_CITY_NAME',\n",
    "    'DEST_AIRPORT_ID', 'AIR_TIME', 'DEP_TIME', 'DEP_DELAY', 'DEP_DEL15'\n",
    "]\n",
    "\n",
    "df_flights_SFO_UA = df_flights_SFO_UA[columns_to_keep]"
   ],
   "id": "812767e82cbf8627",
   "outputs": [],
   "execution_count": null
  },
  {
   "metadata": {},
   "cell_type": "code",
   "source": "df_flights_SFO_UA.to_csv('/Users/judith.rethmann/Documents/MBS/PredictiveAnalytics/FlightData/flights_SFO_UA.csv', index=False)",
   "id": "826d6abb96785438",
   "outputs": [],
   "execution_count": null
  }
 ],
 "metadata": {
  "kernelspec": {
   "display_name": "Python 3",
   "language": "python",
   "name": "python3"
  },
  "language_info": {
   "codemirror_mode": {
    "name": "ipython",
    "version": 2
   },
   "file_extension": ".py",
   "mimetype": "text/x-python",
   "name": "python",
   "nbconvert_exporter": "python",
   "pygments_lexer": "ipython2",
   "version": "2.7.6"
  }
 },
 "nbformat": 4,
 "nbformat_minor": 5
}
