{
 "cells": [
  {
   "cell_type": "code",
   "id": "initial_id",
   "metadata": {
    "collapsed": true,
    "ExecuteTime": {
     "end_time": "2024-05-18T08:29:14.037024Z",
     "start_time": "2024-05-18T08:29:14.034445Z"
    }
   },
   "source": [
    "import pandas as pd\n",
    "from prophet import Prophet\n"
   ],
   "outputs": [],
   "execution_count": 11
  },
  {
   "metadata": {
    "ExecuteTime": {
     "end_time": "2024-05-18T08:29:14.094027Z",
     "start_time": "2024-05-18T08:29:14.038910Z"
    }
   },
   "cell_type": "code",
   "source": [
    "df_flights = pd.read_csv('../FlightData/flights_SFO_UA.csv')\n",
    "df_planes = pd.read_csv('../PlaneData/MainlineFleet.csv')\n",
    "df_holiday = pd.read_csv('../HolidayData/holidays_2023_2024.csv')\n",
    "# df_weather"
   ],
   "id": "fe3476cf18b2fcb9",
   "outputs": [],
   "execution_count": 12
  },
  {
   "metadata": {
    "ExecuteTime": {
     "end_time": "2024-05-18T08:29:14.096343Z",
     "start_time": "2024-05-18T08:29:14.095080Z"
    }
   },
   "cell_type": "code",
   "source": "",
   "id": "327926f66a513c99",
   "outputs": [],
   "execution_count": 12
  },
  {
   "metadata": {
    "ExecuteTime": {
     "end_time": "2024-05-18T08:29:14.099951Z",
     "start_time": "2024-05-18T08:29:14.096879Z"
    }
   },
   "cell_type": "code",
   "source": "df_planes.info()",
   "id": "cb39b8061371b1af",
   "outputs": [
    {
     "name": "stdout",
     "output_type": "stream",
     "text": [
      "<class 'pandas.core.frame.DataFrame'>\n",
      "RangeIndex: 1834 entries, 0 to 1833\n",
      "Data columns (total 2 columns):\n",
      " #   Column       Non-Null Count  Dtype \n",
      "---  ------       --------------  ----- \n",
      " 0   PLANE_MODEL  1819 non-null   object\n",
      " 1   TAIL_NUM     1584 non-null   object\n",
      "dtypes: object(2)\n",
      "memory usage: 28.8+ KB\n"
     ]
    }
   ],
   "execution_count": 13
  },
  {
   "metadata": {
    "ExecuteTime": {
     "end_time": "2024-05-18T08:29:14.114875Z",
     "start_time": "2024-05-18T08:29:14.101163Z"
    }
   },
   "cell_type": "code",
   "source": [
    "import pandas as pd\n",
    "\n",
    "# Load the CSV files into DataFrames\n",
    "df_express_fleet = pd.read_csv('../PlaneData/ExpressFleet.csv')\n",
    "df_mainline_fleet = pd.read_csv('../PlaneData/MainlineFleet.csv')\n",
    "\n",
    "# Concatenate the DataFrames from the CSV files\n",
    "df_planes = pd.concat([df_express_fleet, df_mainline_fleet], ignore_index=True)\n",
    "\n",
    "# Merge the concatenated DataFrame with df_flights\n",
    "df_flights_plane = df_flights.merge(df_planes[['PLANE_MODEL', 'TAIL_NUM']], how='left', left_on='TAIL_NUM', right_on='TAIL_NUM')\n",
    "\n",
    "# Print out all unique TAIL_NUM that don't have a PLANE_MODEL\n",
    "missing_plane_model = df_flights_plane[df_flights_plane['PLANE_MODEL'].isna()]['TAIL_NUM'].unique()\n",
    "print(\"Unique TAIL_NUM without a PLANE_MODEL:\", missing_plane_model, \"count:\", len(missing_plane_model))\n"
   ],
   "id": "c7ec3ee619d1a605",
   "outputs": [
    {
     "name": "stdout",
     "output_type": "stream",
     "text": [
      "Unique TAIL_NUM without a PLANE_MODEL: ['N13110' 'N13138' 'N14102' 'N14242' 'N17133' 'N17229' 'N18119' 'N18220'\n",
      " 'N215UA' 'N222UA' 'N228UA' 'N2331U' 'N2645U' 'N27205' 'N27421' 'N2747U'\n",
      " 'N29124' 'N29129' 'N34137' 'N37413' 'N37419' 'N37466' 'N37504' 'N38454'\n",
      " 'N38458' 'N38473' 'N39418' 'N41135' 'N417UA' 'N429UA' 'N437UA' 'N438UA'\n",
      " 'N445UA' 'N457UA' 'N467UA' 'N468UA' 'N469UA' 'N472UA' 'N476UA' 'N477UA'\n",
      " 'N48127' 'N487UA' 'N491UA' 'N57111' 'N68807' 'N69819' 'N75426' 'N76503'\n",
      " 'N76504' 'N76529' 'N76532' 'N77542' 'N779UA' 'N78506' 'N785UA' 'N87512'\n",
      " 'N14107' 'N14115' 'N14214' 'N14235' 'N19136' 'N19141' 'N21108' 'N2138U'\n",
      " 'N2142U' 'N220UA' 'N26232' 'N33203' 'N37277' 'N37422' 'N37434' 'N37506'\n",
      " 'N37510' 'N37513' 'N423UA' 'N441UA' 'N462UA' 'N475UA' 'N496UA' 'N53441'\n",
      " 'N69806' 'N69816' 'N69818' 'N73259' 'N76514' 'N77430' 'N77535' 'N776UA'\n",
      " 'N781UA' 'N787UA' 'N793UA' 'N12125' 'N14106' 'N2135U' 'N214UA' 'N27477'\n",
      " 'N36469' 'N37263' 'N39415' 'N39423' 'N41140' 'N471UA' 'N489UA' 'N76505'\n",
      " 'N76516' 'N77539' 'N775UA' 'N14118' 'N14240' 'N19117' 'N212UA' 'N2251U'\n",
      " 'N225UA' 'N226UA' 'N26226' 'N36476' 'N37273' 'N37470' 'N427UA' 'N433UA'\n",
      " 'N434UA' 'N461UA' 'N492UA' 'N58101' 'N66814' 'N68811' 'N68817' 'N73283'\n",
      " 'N75435' 'N76533' 'N14120' 'N17126' 'N2136U' 'N213UA' 'N217UA' 'N33132'\n",
      " 'N33209' 'N33264' 'N35204' 'N36444' 'N37471' 'N37508' 'N430UA' 'N444UA'\n",
      " 'N455UA' 'N64809' 'N69810' 'N75436' 'N76508' 'N76528' 'N772UA' 'N773UA'\n",
      " 'N81449' 'N12221' 'N17128' 'N216UA' 'N221UA' 'N223UA' 'N2352U' 'N36472'\n",
      " 'N37274' 'N37456' 'N422UA' 'N454UA' 'N4901U' 'N67815' 'N73275' 'N75433'\n",
      " 'N777UA' 'N780UA' 'N78438' 'N797UA' 'N12116' 'N17139' 'N24224' 'N26215'\n",
      " 'N2748U' 'N37287' 'N37420' 'N37468' 'N424UA' 'N440UA' 'N442UA' 'N480UA'\n",
      " 'N69813' 'N75429' 'N76515' 'N799UA' 'N12238' 'N13113' 'N17244' 'N18112'\n",
      " 'N210UA' 'N27239' 'N28457' 'N34222' 'N37474' 'N37507' 'N415UA' 'N449UA'\n",
      " 'N456UA' 'N47505' 'N66808' 'N73276' 'N796UA' 'N844UA' 'N87527' 'N12114'\n",
      " 'N2749U' 'N33286' 'N36247' 'N421UA' 'N459UA' 'N474UA' 'N481UA' 'N53442'\n",
      " 'N68821' 'N76269' 'N782UA' 'N78511' 'N78524' 'N79521' 'N14237' 'N209UA'\n",
      " 'N33262' 'N431UA' 'N451UA' 'N67134' 'N76517' 'N77530' 'N78448' 'N78501'\n",
      " 'N791UA' 'N87507' 'N17104' 'N17233' 'N2639U' 'N33289' 'N37298' 'N428UA'\n",
      " 'N436UA' 'N466UA' 'N470UA' 'N47414' 'N68801' 'N76523' 'N774UA' 'N219UA'\n",
      " 'N2534U' 'N446UA' 'N485UA' 'N68805' 'N769UA' 'N78509' 'N14230' 'N14231'\n",
      " 'N2333U' 'N24212' 'N36207' 'N38257' 'N432UA' 'N493UA' 'N66803' 'N77538'\n",
      " 'N206UA' 'N211UA' 'N229UA' 'N37290' 'N38424' 'N412UA' 'N425UA' 'N482UA'\n",
      " 'N77520' 'N77525' 'N24202' 'N26210' 'N27213' 'N38467' 'N413UA' 'N73291'\n",
      " 'N771UA' 'N77510' 'N79541' 'N87531' 'N11206' 'N12225' 'N27246' 'N38417'\n",
      " 'N447UA' 'N460UA' 'N75428' 'N12109' 'N12218' 'N2243U' 'N34131' 'N416UA'\n",
      " 'N479UA' 'N87513' 'N14228' 'N14249' 'N28478' 'N418UA' 'N484UA' 'N73251'\n",
      " 'N76254' 'N768UA' 'N778UA' 'N78285' 'N14250' 'N2250U' 'N39416' 'N411UA'\n",
      " 'N465UA' 'N54241' 'N76519' 'N76526' 'N794UA' 'N12216' 'N45440' 'N463UA'\n",
      " 'N67812' 'N69804' 'N73299' 'N76265' 'N77295' 'N34455' 'N448UA' 'N464UA'\n",
      " 'N75425' 'N77431' 'N795UA' 'N13248' 'N16217' 'N16234' 'N1902U' 'N26208'\n",
      " 'N2644U' 'N38446' 'N495UA' 'N57439' 'N68802' 'N19130' 'N2140U' 'N35236'\n",
      " 'N435UA' 'N478UA' 'N77537' 'N24211' 'N37253' 'N37255' 'N77258' 'N77518'\n",
      " 'N798UA' 'N227UA' 'N33292' 'N37252' 'N458UA' 'N76522' 'N786UA' 'N25201'\n",
      " 'N2737U' 'N39475' 'N486UA' 'N76502' 'N224UA' 'N473UA' 'N498UA' 'N86534'\n",
      " 'N420UA' 'N33284' 'N76288' 'N17105' 'N38459' 'N73445' 'N38443' 'N426UA'\n",
      " 'N77536' 'N784UA' 'N17245' 'N13227' 'N218UA' 'N37267' 'N2341U' 'N35271'\n",
      " 'N68452' 'N33266' 'N38451' 'N439UA' 'N37409' 'N38268' 'N414UA' 'N36272'\n",
      " 'N483UA' 'N494UA' 'N71411' 'N419UA' 'N63820' 'N2846U' 'N35260' 'N497UA'\n",
      " 'N75432' 'N783UA' 'N788UA' 'N204UA' 'N490UA' 'N78540' 'N35407' 'N13750'\n",
      " 'N30401' 'N37427' 'N403UA' 'N443UA' 'N792UA' 'N452UA' 'N404UA' 'N77296'\n",
      " 'N36447' 'N37281' 'N73256' 'N39450' 'N73270' 'N406UA' 'N68453' 'N14219'\n",
      " 'N405UA' 'N77261' 'N488UA' 'N402UA' 'N18243' 'N410UA' 'N39297' 'N401UA'\n",
      " 'N453UA' 'N408UA' 'N409UA' 'N407UA' 'N79402' 'N32404' 'N72405' 'N37408'\n",
      " 'N31412' 'N75410' 'N73406' 'N38403' 'N16709' 'N25705'] count: 446\n"
     ]
    }
   ],
   "execution_count": 14
  },
  {
   "metadata": {
    "ExecuteTime": {
     "end_time": "2024-05-18T08:29:14.118308Z",
     "start_time": "2024-05-18T08:29:14.115505Z"
    }
   },
   "cell_type": "code",
   "source": "df_flights_plane['PLANE_MODEL'].unique()",
   "id": "14837410a9bb4be0",
   "outputs": [
    {
     "data": {
      "text/plain": [
       "array([nan, '38M', '39M', '787-8', '787-9', '739ER', '753', '763ER',\n",
       "       '772ER', '319', '752', '77W', '787-10', '764ER', '738'],\n",
       "      dtype=object)"
      ]
     },
     "execution_count": 15,
     "metadata": {},
     "output_type": "execute_result"
    }
   ],
   "execution_count": 15
  },
  {
   "metadata": {
    "ExecuteTime": {
     "end_time": "2024-05-18T08:29:14.325701Z",
     "start_time": "2024-05-18T08:29:14.118910Z"
    }
   },
   "cell_type": "code",
   "source": [
    "for origin, dest in df_flights_plane[['ORIGIN_CITY_NAME', 'DEST_CITY_NAME']].drop_duplicates().values:\n",
    "    # Filter rows for the current combination of ORIGIN_CITY_NAME and DEST_CITY_NAME\n",
    "    mask = (df_flights_plane['ORIGIN_CITY_NAME'] == origin) & (df_flights_plane['DEST_CITY_NAME'] == dest)\n",
    "    \n",
    "    # Find the first non-NaN PLANE_MODEL for the current combination\n",
    "    plane_model = df_flights_plane.loc[mask, 'PLANE_MODEL'].dropna().unique()\n",
    "    \n",
    "    if len(plane_model) > 0:\n",
    "        # Use the first non-NaN PLANE_MODEL if it exists\n",
    "        df_flights_plane.loc[mask & df_flights_plane['PLANE_MODEL'].isna(), 'PLANE_MODEL'] = plane_model[0]\n"
   ],
   "id": "27e4dee094305e9c",
   "outputs": [],
   "execution_count": 16
  },
  {
   "metadata": {
    "ExecuteTime": {
     "end_time": "2024-05-18T08:29:14.331963Z",
     "start_time": "2024-05-18T08:29:14.326366Z"
    }
   },
   "cell_type": "code",
   "source": [
    "# Calculate the percentage of unique TAIL_NUM that have no model\n",
    "unique_tail_nums = df_flights_plane['TAIL_NUM'].nunique()\n",
    "unique_tail_nums_no_model = df_flights_plane[df_flights_plane['PLANE_MODEL'].isna()]['TAIL_NUM'].nunique()\n",
    "percentage_unique_no_model = (unique_tail_nums_no_model / unique_tail_nums) * 100\n",
    "\n",
    "# Calculate the percentage of all rows that have no model\n",
    "total_rows = len(df_flights_plane)\n",
    "rows_no_model = df_flights_plane['PLANE_MODEL'].isna().sum()\n",
    "percentage_rows_no_model = (rows_no_model / total_rows) * 100\n",
    "\n",
    "# Print the results\n",
    "print(f\"Percentage of unique TAIL_NUM that have no model: {percentage_unique_no_model:.2f}%\")\n",
    "print(f\"Percentage of all rows that have no model: {percentage_rows_no_model:.2f}%\")\n"
   ],
   "id": "8b12b24a4e7fd1c8",
   "outputs": [
    {
     "name": "stdout",
     "output_type": "stream",
     "text": [
      "Percentage of unique TAIL_NUM that have no model: 0.11%\n",
      "Percentage of all rows that have no model: 0.00%\n"
     ]
    }
   ],
   "execution_count": 17
  },
  {
   "metadata": {
    "ExecuteTime": {
     "end_time": "2024-05-18T08:29:14.338111Z",
     "start_time": "2024-05-18T08:29:14.332540Z"
    }
   },
   "cell_type": "code",
   "source": "df_flights_plane",
   "id": "61e12d49c9095450",
   "outputs": [
    {
     "data": {
      "text/plain": [
       "        ORIGIN_CITY_NAME  ORIGIN_AIRPORT_ID OP_UNIQUE_CARRIER  \\\n",
       "0      San Francisco, CA              14771                UA   \n",
       "1      San Francisco, CA              14771                UA   \n",
       "2      San Francisco, CA              14771                UA   \n",
       "3      San Francisco, CA              14771                UA   \n",
       "4      San Francisco, CA              14771                UA   \n",
       "...                  ...                ...               ...   \n",
       "50235  San Francisco, CA              14771                UA   \n",
       "50236  San Francisco, CA              14771                UA   \n",
       "50237  San Francisco, CA              14771                UA   \n",
       "50238  San Francisco, CA              14771                UA   \n",
       "50239  San Francisco, CA              14771                UA   \n",
       "\n",
       "       OP_CARRIER_FL_NUM TAIL_NUM     FL_DATE  YEAR  MONTH  DAY_OF_MONTH  \\\n",
       "0                   1665   N13110  2024-02-01  2024      2             1   \n",
       "1                    716   N13110  2024-02-01  2024      2             1   \n",
       "2                   1999   N13138  2024-02-01  2024      2             1   \n",
       "3                   2374   N14102  2024-02-01  2024      2             1   \n",
       "4                   1041   N14242  2024-02-01  2024      2             1   \n",
       "...                  ...      ...         ...   ...    ...           ...   \n",
       "50235                246   N850UA  2023-10-31  2023     10            31   \n",
       "50236               1581   N872UA  2023-10-31  2023     10            31   \n",
       "50237               1640   N881UA  2023-10-31  2023     10            31   \n",
       "50238               1107   N884UA  2023-10-31  2023     10            31   \n",
       "50239               1702   N884UA  2023-10-31  2023     10            31   \n",
       "\n",
       "       DAY_OF_WEEK         DEST_CITY_NAME  DEST_AIRPORT_ID  AIR_TIME  \\\n",
       "0                4             Boston, MA            10721     329.0   \n",
       "1                4             Boston, MA            10721     314.0   \n",
       "2                4             Denver, CO            11292     122.0   \n",
       "3                4             Boston, MA            10721     314.0   \n",
       "4                4          San Diego, CA            14679      66.0   \n",
       "...            ...                    ...              ...       ...   \n",
       "50235            2        Albuquerque, NM            10140     115.0   \n",
       "50236            2              Boise, ID            10713      70.0   \n",
       "50237            2  Dallas/Fort Worth, TX            11298     184.0   \n",
       "50238            2             Austin, TX            10423     185.0   \n",
       "50239            2  Dallas/Fort Worth, TX            11298     180.0   \n",
       "\n",
       "       DEP_TIME  DEP_DELAY  DEP_DEL15 PLANE_MODEL  \n",
       "0      23:44:00       19.0        1.0         752  \n",
       "1      08:17:00       -8.0        0.0         752  \n",
       "2      11:42:00       36.0        1.0         38M  \n",
       "3      13:30:00       15.0        1.0         752  \n",
       "4      08:27:00       -8.0        0.0         39M  \n",
       "...         ...        ...        ...         ...  \n",
       "50235  11:04:00       -6.0        0.0         319  \n",
       "50236  08:34:00      -11.0        0.0         319  \n",
       "50237  10:58:00       -8.0        0.0         319  \n",
       "50238  08:37:00       -3.0        0.0         319  \n",
       "50239  18:17:00       -8.0        0.0         319  \n",
       "\n",
       "[50240 rows x 17 columns]"
      ],
      "text/html": [
       "<div>\n",
       "<style scoped>\n",
       "    .dataframe tbody tr th:only-of-type {\n",
       "        vertical-align: middle;\n",
       "    }\n",
       "\n",
       "    .dataframe tbody tr th {\n",
       "        vertical-align: top;\n",
       "    }\n",
       "\n",
       "    .dataframe thead th {\n",
       "        text-align: right;\n",
       "    }\n",
       "</style>\n",
       "<table border=\"1\" class=\"dataframe\">\n",
       "  <thead>\n",
       "    <tr style=\"text-align: right;\">\n",
       "      <th></th>\n",
       "      <th>ORIGIN_CITY_NAME</th>\n",
       "      <th>ORIGIN_AIRPORT_ID</th>\n",
       "      <th>OP_UNIQUE_CARRIER</th>\n",
       "      <th>OP_CARRIER_FL_NUM</th>\n",
       "      <th>TAIL_NUM</th>\n",
       "      <th>FL_DATE</th>\n",
       "      <th>YEAR</th>\n",
       "      <th>MONTH</th>\n",
       "      <th>DAY_OF_MONTH</th>\n",
       "      <th>DAY_OF_WEEK</th>\n",
       "      <th>DEST_CITY_NAME</th>\n",
       "      <th>DEST_AIRPORT_ID</th>\n",
       "      <th>AIR_TIME</th>\n",
       "      <th>DEP_TIME</th>\n",
       "      <th>DEP_DELAY</th>\n",
       "      <th>DEP_DEL15</th>\n",
       "      <th>PLANE_MODEL</th>\n",
       "    </tr>\n",
       "  </thead>\n",
       "  <tbody>\n",
       "    <tr>\n",
       "      <th>0</th>\n",
       "      <td>San Francisco, CA</td>\n",
       "      <td>14771</td>\n",
       "      <td>UA</td>\n",
       "      <td>1665</td>\n",
       "      <td>N13110</td>\n",
       "      <td>2024-02-01</td>\n",
       "      <td>2024</td>\n",
       "      <td>2</td>\n",
       "      <td>1</td>\n",
       "      <td>4</td>\n",
       "      <td>Boston, MA</td>\n",
       "      <td>10721</td>\n",
       "      <td>329.0</td>\n",
       "      <td>23:44:00</td>\n",
       "      <td>19.0</td>\n",
       "      <td>1.0</td>\n",
       "      <td>752</td>\n",
       "    </tr>\n",
       "    <tr>\n",
       "      <th>1</th>\n",
       "      <td>San Francisco, CA</td>\n",
       "      <td>14771</td>\n",
       "      <td>UA</td>\n",
       "      <td>716</td>\n",
       "      <td>N13110</td>\n",
       "      <td>2024-02-01</td>\n",
       "      <td>2024</td>\n",
       "      <td>2</td>\n",
       "      <td>1</td>\n",
       "      <td>4</td>\n",
       "      <td>Boston, MA</td>\n",
       "      <td>10721</td>\n",
       "      <td>314.0</td>\n",
       "      <td>08:17:00</td>\n",
       "      <td>-8.0</td>\n",
       "      <td>0.0</td>\n",
       "      <td>752</td>\n",
       "    </tr>\n",
       "    <tr>\n",
       "      <th>2</th>\n",
       "      <td>San Francisco, CA</td>\n",
       "      <td>14771</td>\n",
       "      <td>UA</td>\n",
       "      <td>1999</td>\n",
       "      <td>N13138</td>\n",
       "      <td>2024-02-01</td>\n",
       "      <td>2024</td>\n",
       "      <td>2</td>\n",
       "      <td>1</td>\n",
       "      <td>4</td>\n",
       "      <td>Denver, CO</td>\n",
       "      <td>11292</td>\n",
       "      <td>122.0</td>\n",
       "      <td>11:42:00</td>\n",
       "      <td>36.0</td>\n",
       "      <td>1.0</td>\n",
       "      <td>38M</td>\n",
       "    </tr>\n",
       "    <tr>\n",
       "      <th>3</th>\n",
       "      <td>San Francisco, CA</td>\n",
       "      <td>14771</td>\n",
       "      <td>UA</td>\n",
       "      <td>2374</td>\n",
       "      <td>N14102</td>\n",
       "      <td>2024-02-01</td>\n",
       "      <td>2024</td>\n",
       "      <td>2</td>\n",
       "      <td>1</td>\n",
       "      <td>4</td>\n",
       "      <td>Boston, MA</td>\n",
       "      <td>10721</td>\n",
       "      <td>314.0</td>\n",
       "      <td>13:30:00</td>\n",
       "      <td>15.0</td>\n",
       "      <td>1.0</td>\n",
       "      <td>752</td>\n",
       "    </tr>\n",
       "    <tr>\n",
       "      <th>4</th>\n",
       "      <td>San Francisco, CA</td>\n",
       "      <td>14771</td>\n",
       "      <td>UA</td>\n",
       "      <td>1041</td>\n",
       "      <td>N14242</td>\n",
       "      <td>2024-02-01</td>\n",
       "      <td>2024</td>\n",
       "      <td>2</td>\n",
       "      <td>1</td>\n",
       "      <td>4</td>\n",
       "      <td>San Diego, CA</td>\n",
       "      <td>14679</td>\n",
       "      <td>66.0</td>\n",
       "      <td>08:27:00</td>\n",
       "      <td>-8.0</td>\n",
       "      <td>0.0</td>\n",
       "      <td>39M</td>\n",
       "    </tr>\n",
       "    <tr>\n",
       "      <th>...</th>\n",
       "      <td>...</td>\n",
       "      <td>...</td>\n",
       "      <td>...</td>\n",
       "      <td>...</td>\n",
       "      <td>...</td>\n",
       "      <td>...</td>\n",
       "      <td>...</td>\n",
       "      <td>...</td>\n",
       "      <td>...</td>\n",
       "      <td>...</td>\n",
       "      <td>...</td>\n",
       "      <td>...</td>\n",
       "      <td>...</td>\n",
       "      <td>...</td>\n",
       "      <td>...</td>\n",
       "      <td>...</td>\n",
       "      <td>...</td>\n",
       "    </tr>\n",
       "    <tr>\n",
       "      <th>50235</th>\n",
       "      <td>San Francisco, CA</td>\n",
       "      <td>14771</td>\n",
       "      <td>UA</td>\n",
       "      <td>246</td>\n",
       "      <td>N850UA</td>\n",
       "      <td>2023-10-31</td>\n",
       "      <td>2023</td>\n",
       "      <td>10</td>\n",
       "      <td>31</td>\n",
       "      <td>2</td>\n",
       "      <td>Albuquerque, NM</td>\n",
       "      <td>10140</td>\n",
       "      <td>115.0</td>\n",
       "      <td>11:04:00</td>\n",
       "      <td>-6.0</td>\n",
       "      <td>0.0</td>\n",
       "      <td>319</td>\n",
       "    </tr>\n",
       "    <tr>\n",
       "      <th>50236</th>\n",
       "      <td>San Francisco, CA</td>\n",
       "      <td>14771</td>\n",
       "      <td>UA</td>\n",
       "      <td>1581</td>\n",
       "      <td>N872UA</td>\n",
       "      <td>2023-10-31</td>\n",
       "      <td>2023</td>\n",
       "      <td>10</td>\n",
       "      <td>31</td>\n",
       "      <td>2</td>\n",
       "      <td>Boise, ID</td>\n",
       "      <td>10713</td>\n",
       "      <td>70.0</td>\n",
       "      <td>08:34:00</td>\n",
       "      <td>-11.0</td>\n",
       "      <td>0.0</td>\n",
       "      <td>319</td>\n",
       "    </tr>\n",
       "    <tr>\n",
       "      <th>50237</th>\n",
       "      <td>San Francisco, CA</td>\n",
       "      <td>14771</td>\n",
       "      <td>UA</td>\n",
       "      <td>1640</td>\n",
       "      <td>N881UA</td>\n",
       "      <td>2023-10-31</td>\n",
       "      <td>2023</td>\n",
       "      <td>10</td>\n",
       "      <td>31</td>\n",
       "      <td>2</td>\n",
       "      <td>Dallas/Fort Worth, TX</td>\n",
       "      <td>11298</td>\n",
       "      <td>184.0</td>\n",
       "      <td>10:58:00</td>\n",
       "      <td>-8.0</td>\n",
       "      <td>0.0</td>\n",
       "      <td>319</td>\n",
       "    </tr>\n",
       "    <tr>\n",
       "      <th>50238</th>\n",
       "      <td>San Francisco, CA</td>\n",
       "      <td>14771</td>\n",
       "      <td>UA</td>\n",
       "      <td>1107</td>\n",
       "      <td>N884UA</td>\n",
       "      <td>2023-10-31</td>\n",
       "      <td>2023</td>\n",
       "      <td>10</td>\n",
       "      <td>31</td>\n",
       "      <td>2</td>\n",
       "      <td>Austin, TX</td>\n",
       "      <td>10423</td>\n",
       "      <td>185.0</td>\n",
       "      <td>08:37:00</td>\n",
       "      <td>-3.0</td>\n",
       "      <td>0.0</td>\n",
       "      <td>319</td>\n",
       "    </tr>\n",
       "    <tr>\n",
       "      <th>50239</th>\n",
       "      <td>San Francisco, CA</td>\n",
       "      <td>14771</td>\n",
       "      <td>UA</td>\n",
       "      <td>1702</td>\n",
       "      <td>N884UA</td>\n",
       "      <td>2023-10-31</td>\n",
       "      <td>2023</td>\n",
       "      <td>10</td>\n",
       "      <td>31</td>\n",
       "      <td>2</td>\n",
       "      <td>Dallas/Fort Worth, TX</td>\n",
       "      <td>11298</td>\n",
       "      <td>180.0</td>\n",
       "      <td>18:17:00</td>\n",
       "      <td>-8.0</td>\n",
       "      <td>0.0</td>\n",
       "      <td>319</td>\n",
       "    </tr>\n",
       "  </tbody>\n",
       "</table>\n",
       "<p>50240 rows × 17 columns</p>\n",
       "</div>"
      ]
     },
     "execution_count": 18,
     "metadata": {},
     "output_type": "execute_result"
    }
   ],
   "execution_count": 18
  },
  {
   "metadata": {
    "ExecuteTime": {
     "end_time": "2024-05-18T08:29:14.344415Z",
     "start_time": "2024-05-18T08:29:14.338704Z"
    }
   },
   "cell_type": "code",
   "source": "df_flights_plane = df_flights_plane.dropna(subset=['PLANE_MODEL'])",
   "id": "239d652a9fc1ba04",
   "outputs": [],
   "execution_count": 19
  },
  {
   "metadata": {
    "ExecuteTime": {
     "end_time": "2024-05-18T08:29:14.488334Z",
     "start_time": "2024-05-18T08:29:14.345872Z"
    }
   },
   "cell_type": "code",
   "source": [
    "flights_plane_csv_path = '/Users/judith.rethmann/Documents/MBS/PredictiveAnalytics/Model/flights_plane.csv'\n",
    "df_flights_plane.to_csv(flights_plane_csv_path, index=False)\n",
    "print(f\"Combined CSV file saved as '{flights_plane_csv_path}'\")\n"
   ],
   "id": "9a1a9416401b59c9",
   "outputs": [
    {
     "name": "stdout",
     "output_type": "stream",
     "text": [
      "Combined CSV file saved as '/Users/judith.rethmann/Documents/MBS/PredictiveAnalytics/Model/flights_plane.csv'\n"
     ]
    }
   ],
   "execution_count": 20
  }
 ],
 "metadata": {
  "kernelspec": {
   "display_name": "Python 3",
   "language": "python",
   "name": "python3"
  },
  "language_info": {
   "codemirror_mode": {
    "name": "ipython",
    "version": 2
   },
   "file_extension": ".py",
   "mimetype": "text/x-python",
   "name": "python",
   "nbconvert_exporter": "python",
   "pygments_lexer": "ipython2",
   "version": "2.7.6"
  }
 },
 "nbformat": 4,
 "nbformat_minor": 5
}
