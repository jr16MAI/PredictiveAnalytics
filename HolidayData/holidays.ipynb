{
  "nbformat": 4,
  "nbformat_minor": 0,
  "metadata": {
    "colab": {
      "provenance": []
    },
    "kernelspec": {
      "name": "python3",
      "display_name": "Python 3"
    },
    "language_info": {
      "name": "python"
    }
  },
  "cells": [
    {
      "cell_type": "code",
      "execution_count": null,
      "metadata": {
        "id": "q4NWOGPq176Q"
      },
      "outputs": [],
      "source": [
        "import pandas as pd\n",
        "from prophet import Prophet"
      ]
    },
    {
      "cell_type": "code",
      "source": [
        "# Define the date range\n",
        "start_date = '2023-01-01'\n",
        "end_date = '2024-12-31'\n",
        "date_range = pd.date_range(start=start_date, end=end_date)\n",
        "\n",
        "# Create a DataFrame for the date range\n",
        "all_days_df = pd.DataFrame(date_range, columns=['ds'])\n"
      ],
      "metadata": {
        "id": "bakBj5c76rU8"
      },
      "execution_count": null,
      "outputs": []
    },
    {
      "cell_type": "code",
      "source": [
        "# Define the years and country\n",
        "years = list(range(2023, 2025))  # 2023 and 2024\n",
        "country = 'US'\n",
        "\n",
        "# Generate the holidays DataFrame\n",
        "holidays_df = make_holidays_df(year_list=years, country=country)\n",
        "\n",
        "# Merge the two DataFrames\n",
        "merged_df = all_days_df.merge(holidays_df, on='ds', how='left')\n",
        "\n",
        "# Mark holiday status\n",
        "merged_df['holiday_status'] = merged_df['holiday'].notna()\n",
        "\n",
        "# Fill NaN values in the 'holiday' column with 'None'\n",
        "merged_df['holiday'] = merged_df['holiday'].fillna('None')\n",
        "\n",
        "# Display the resulting DataFrame\n",
        "print(merged_df)"
      ],
      "metadata": {
        "colab": {
          "base_uri": "https://localhost:8080/"
        },
        "id": "m66nkZVT61ky",
        "outputId": "bad481fb-86ff-44d2-8394-efeed1ffd68e"
      },
      "execution_count": null,
      "outputs": [
        {
          "output_type": "stream",
          "name": "stdout",
          "text": [
            "            ds                    holiday  holiday_status\n",
            "0   2023-01-01             New Year's Day            True\n",
            "1   2023-01-02  New Year's Day (observed)            True\n",
            "2   2023-01-03                       None           False\n",
            "3   2023-01-04                       None           False\n",
            "4   2023-01-05                       None           False\n",
            "..         ...                        ...             ...\n",
            "726 2024-12-27                       None           False\n",
            "727 2024-12-28                       None           False\n",
            "728 2024-12-29                       None           False\n",
            "729 2024-12-30                       None           False\n",
            "730 2024-12-31                       None           False\n",
            "\n",
            "[731 rows x 3 columns]\n"
          ]
        }
      ]
    },
    {
      "cell_type": "code",
      "source": [
        "# Save the DataFrame to a CSV file\n",
        "merged_df.to_csv('holidays_2023_2024.csv', index=False)\n",
        "\n",
        "# Code to download the file in Google Colab\n",
        "from google.colab import files\n",
        "files.download('holidays_2023_2024.csv')"
      ],
      "metadata": {
        "colab": {
          "base_uri": "https://localhost:8080/",
          "height": 17
        },
        "id": "qdUdw3Bx61Xz",
        "outputId": "27536f2f-1da6-4328-e8a7-5e7743b4fe6b"
      },
      "execution_count": null,
      "outputs": [
        {
          "output_type": "display_data",
          "data": {
            "text/plain": [
              "<IPython.core.display.Javascript object>"
            ],
            "application/javascript": [
              "\n",
              "    async function download(id, filename, size) {\n",
              "      if (!google.colab.kernel.accessAllowed) {\n",
              "        return;\n",
              "      }\n",
              "      const div = document.createElement('div');\n",
              "      const label = document.createElement('label');\n",
              "      label.textContent = `Downloading \"${filename}\": `;\n",
              "      div.appendChild(label);\n",
              "      const progress = document.createElement('progress');\n",
              "      progress.max = size;\n",
              "      div.appendChild(progress);\n",
              "      document.body.appendChild(div);\n",
              "\n",
              "      const buffers = [];\n",
              "      let downloaded = 0;\n",
              "\n",
              "      const channel = await google.colab.kernel.comms.open(id);\n",
              "      // Send a message to notify the kernel that we're ready.\n",
              "      channel.send({})\n",
              "\n",
              "      for await (const message of channel.messages) {\n",
              "        // Send a message to notify the kernel that we're ready.\n",
              "        channel.send({})\n",
              "        if (message.buffers) {\n",
              "          for (const buffer of message.buffers) {\n",
              "            buffers.push(buffer);\n",
              "            downloaded += buffer.byteLength;\n",
              "            progress.value = downloaded;\n",
              "          }\n",
              "        }\n",
              "      }\n",
              "      const blob = new Blob(buffers, {type: 'application/binary'});\n",
              "      const a = document.createElement('a');\n",
              "      a.href = window.URL.createObjectURL(blob);\n",
              "      a.download = filename;\n",
              "      div.appendChild(a);\n",
              "      a.click();\n",
              "      div.remove();\n",
              "    }\n",
              "  "
            ]
          },
          "metadata": {}
        },
        {
          "output_type": "display_data",
          "data": {
            "text/plain": [
              "<IPython.core.display.Javascript object>"
            ],
            "application/javascript": [
              "download(\"download_d562e991-25d6-464f-9eb1-223385ea8a59\", \"holidays_2023_2024.csv\", 16402)"
            ]
          },
          "metadata": {}
        }
      ]
    }
  ]
}