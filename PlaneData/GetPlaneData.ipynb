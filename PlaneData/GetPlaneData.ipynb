{
 "cells": [
  {
   "cell_type": "code",
   "id": "initial_id",
   "metadata": {
    "collapsed": true,
    "ExecuteTime": {
     "end_time": "2024-05-18T07:33:01.947061Z",
     "start_time": "2024-05-18T07:33:01.671842Z"
    }
   },
   "source": [
    "import pandas as pd\n",
    "import requests\n",
    "import io\n",
    "\n",
    "# Base URL for exporting Google Sheets to CSV\n",
    "base_url = \"https://docs.google.com/spreadsheets/d/1ZlYgN_IZmd6CSx_nXnuP0L0PiodapDRx3RmNkIpxXAo/export?format=csv&gid=\"\n",
    "\n",
    "# List of sheet IDs (gids) from your Google Sheets document\n",
    "sheet_ids = [\n",
    "    \"0\",\n",
    "    \"1\",\n",
    "    \"3\",\n",
    "    \"4\",\n",
    "    \"6\",\n",
    "    \"5\",\n",
    "    \"70572532\",\n",
    "    \"7\",\n",
    "    \"8\",\n",
    "    \"948315825\",\n",
    "    \"10\",\n",
    "    \"12\",\n",
    "    \"15\",\n",
    "    \"13\",\n",
    "    \"2098141434\",\n",
    "    \"1855629492\",\n",
    "    \"735685210\",\n",
    "    \"1151318329\"\n",
    "    # Add more sheet IDs as needed\n",
    "]\n"
   ],
   "outputs": [],
   "execution_count": 1
  },
  {
   "metadata": {
    "ExecuteTime": {
     "end_time": "2024-05-18T07:33:11.699594Z",
     "start_time": "2024-05-18T07:33:01.951305Z"
    }
   },
   "cell_type": "code",
   "source": [
    "# Function to download CSV from Google Sheets and return as DataFrame with only the first two columns\n",
    "def download_sheet_as_df(sheet_id):\n",
    "    url = base_url + sheet_id\n",
    "    response = requests.get(url)\n",
    "    response.raise_for_status()  # Check if the request was successful\n",
    "    df = pd.read_csv(io.StringIO(response.text), usecols=[0, 1], header=None)  # Read only the first two columns, no header\n",
    "    df.columns = [\"PLANE_MODEL\", \"TAIL_NUM\"]  # Rename the columns\n",
    "    return df\n",
    "\n",
    "# Download each sheet and combine into a single DataFrame\n",
    "combined_df = pd.concat([download_sheet_as_df(sheet_id) for sheet_id in sheet_ids])\n"
   ],
   "id": "87b346cef42dacf9",
   "outputs": [],
   "execution_count": 2
  },
  {
   "metadata": {
    "ExecuteTime": {
     "end_time": "2024-05-18T07:33:11.709278Z",
     "start_time": "2024-05-18T07:33:11.700778Z"
    }
   },
   "cell_type": "code",
   "source": [
    "\n",
    "# Save the combined DataFrame to a CSV file\n",
    "combined_csv_path = 'MainlineFleet.csv'\n",
    "combined_df.to_csv(combined_csv_path, index=False)\n",
    "\n",
    "print(f\"Combined CSV file saved as '{combined_csv_path}'\")"
   ],
   "id": "bd38f6a2a08f146",
   "outputs": [
    {
     "name": "stdout",
     "output_type": "stream",
     "text": [
      "Combined CSV file saved as 'MainlineFleet.csv'\n"
     ]
    }
   ],
   "execution_count": 3
  },
  {
   "metadata": {
    "ExecuteTime": {
     "end_time": "2024-05-18T07:33:11.725601Z",
     "start_time": "2024-05-18T07:33:11.710355Z"
    }
   },
   "cell_type": "code",
   "source": [
    "import pandas as pd\n",
    "\n",
    "# Define the function to create a DataFrame for each plane model\n",
    "def create_plane_model_df(model_name, tail_numbers):\n",
    "    return pd.DataFrame({\n",
    "        'PLANE_MODEL': model_name,\n",
    "        'TAIL_NUM': tail_numbers\n",
    "    })\n",
    "\n",
    "# List of plane models and their respective tail numbers\n",
    "express_plane_models = {\n",
    "    'E175': [\n",
    "    'N103SY', 'N105SY', 'N106SY', 'N107SY', 'N108SY', 'N109SY', 'N110SY', 'N113SY', 'N114SY', 'N116SY', 'N117SY', 'N118SY', 'N119SY', 'N120SY', 'N121SY', 'N122SY', 'N124SY', 'N125SY', 'N127SY', 'N128SY', 'N130SY', 'N131SY', 'N132SY', 'N133SY', 'N134SY', 'N135SY', 'N136SY', 'N138SY', 'N139SY', 'N140SY', 'N141SY', 'N142SY', 'N143SY', 'N144SY', 'N145SY', 'N146SY', 'N148SY', 'N149SY', 'N150SY', 'N151SY', 'N152SY', 'N153SY', 'N154SY', 'N156SY', 'N157SY', 'N160SY', 'N161SY', 'N162SY', 'N163SY', 'N164SY', 'N165SY', 'N166SY', 'N167SY', 'N168SY', 'N200SY', 'N202SY', 'N203SY', 'N204SY', 'N205SY', 'N206SY', 'N207SY', 'N208SY', 'N209SY', 'N211SY', 'N213SY', 'N87303', 'N89304', 'N87306', 'N84307', 'N89308', 'N86309', 'N88310', 'N86311', 'N86312', 'N89315', 'N87318', 'N87319', 'N88326', 'N88331', 'N88332', 'N82333', 'N86334', 'N88335', 'N86336', 'N87337', 'N82338', 'N87339','N85340','N88341','N89342','N80343','N86344','N87345','N88346','N86347','N80348','N89349','N85351','N85352','N87353','N85354','N85355','N85356','N89357','N85358','N88359','N87360','N740YX', 'N741YX', 'N742YX', 'N743YX', 'N744YX', 'N745YX', 'N746YX', 'N747YX', 'N748YX', 'N749YX', 'N750YX', 'N751YX', 'N752YX', 'N753YX', 'N754YX', 'N755YX', 'N756YX', 'N757YX', 'N758YX', 'N760YX', 'N761YX', 'N762YX', 'N763YX', 'N764YX', 'N765YX', 'N766YX', 'N767YX', 'N768YX', 'N769YX', 'N770YX', \n",
    "    ],\n",
    "    \n",
    "    '75SC': [\n",
    "    'N601UX', 'N602UX', 'N603UX', 'N604UX', 'N605UX', 'N606UX', 'N607UX', 'N608UX', 'N609UX', 'N610UX', 'N611UX', 'N612UX', 'N613UX', 'N614UX', 'N615UX', 'N616UX', 'N617UX', 'N618UX', 'N619UX', 'N620UX', 'N621UX', 'N622UX', 'N623UX', 'N624UX', 'N625UX', 'N78361', 'N87367', 'N84378', 'N85379', 'N721YX', 'N722YX', 'N723YX', 'N724YX', 'N725YX', 'N726YX', 'N727YX', 'N728YX', 'N729YX', 'N730YX', 'N731YX', 'N732YX', 'N733YX', 'N736YX', 'N739YX', 'N88301', 'N87302', 'N93305', 'N89313', 'N82314', 'N86316', 'N89317', 'N85320', 'N89321', 'N86322', 'N85323', 'N86324', 'N88325', 'N88327', 'N88328', 'N83329', 'N88330', 'N86350', 'N89362', 'N85363', 'N87364', 'N87365', 'N82366', 'N87368', 'N85369', 'N85370', 'N86371', 'N86372', 'N85373', 'N85374', 'N86375', 'N85376', 'N85377', 'N87380', \n",
    "    ],\n",
    "    \n",
    "    'E170': ['N638RW', 'N639RW', 'N640RW', 'N641RW', 'N642RW', 'N647RW', 'N648RW', 'N652RW', 'N653RW', 'N654RW', 'N655RW', 'N656RW', 'N657RW', 'N855RW', 'N856RW', 'N857RW', 'N858RW', 'N859RW', 'N861RW', 'N862RW', 'N863RW', 'N864RW', 'N865RW', 'N979RP'],\n",
    "    \n",
    "    'CJ9': [\n",
    "    'N241LR','N244LR','N245LR','N249LR','N326MS','N329MS','N914FJ','N920FJ','N922FJ','N927LR','N930LR','N933LR','N934FJ','N938LR','N943LR','N944LR','N946LR','N947LR','N948LR','N950LR','N951LR'\n",
    "    ],\n",
    "    'CJ7': [\n",
    "    'N743SK', 'N779SK', 'N780SK', 'N782SK', 'N783SK', 'N784SK', 'N785SK', 'N786SK', 'N787SK', 'N788SK', 'N789SK', 'N790SK', 'N791SK', 'N792SK', 'N793SK', 'N794SK', 'N795SK', 'N796SK', 'N797SK', \n",
    "    ],\n",
    "    'CJ5':[\n",
    "    'N54EA', 'N501GJ','N502GJ','N503GJ','N504GJ','N506GJ','N508GJ','N511GJ','N519GJ','N520GJ','N521GJ','N522GJ','N523GJ','N524GJ','N526GJ','N530GJ','N531GJ','N532GJ','N533GJ','N534GJ','N535GJ','N536GJ','N537GJ','N538GJ','N539GJ','N540GJ','N541GJ','N542GJ','N543GJ','N544GJ','N545GJ','N546GJ','N547GJ','N548GJ','N549GJ','N551GJ','N552GJ','N553GJ','N554GJ','N556GJ','N557GJ','N558GJ','N559GJ','N561GJ','N562GJ','N563GJ','N564GJ','N565GJ','N566GJ','N568GJ','N569GJ','N570GJ','N571GJ','N572GJ','N573GJ','N574GJ','N575GJ','N578GJ','N579GJ',\n",
    "    ],\n",
    "    'E45X':[\n",
    "     'N24128', 'N21129', 'N12135', 'N12136', 'N12142', 'N21144', 'N12145', 'N17146', 'N16147', 'N14148', 'N16149', 'N11150', 'N16151', 'N14153', 'N21154', 'N10156', 'N14158', 'N17159', 'N12160', 'N13161', 'N14162', 'N12163', 'N11164', 'N11165', 'N12167', 'N14168', 'N17169', 'N16170', 'N14174', 'N12175', 'N11176', 'N14177', 'N16178', 'N14179', 'N33182', 'N16183', 'N11184', 'N14186', 'N14188', 'N11189', 'N27190', 'N11191', 'N11192', 'N11193', 'N12195', 'N17196', 'N21197', 'N14198', 'N11199', 'N27200', 'N12201', 'N13202', 'N14203',\n",
    "    ],\n",
    "    'CJ2': ['N207PS', 'N221PS', 'N223JS', 'N228PS', 'N246PS', 'N430SW', 'N433SW', 'N437SW', 'N440SW', 'N452SW', 'N453SW', 'N454SW', 'N455SW', 'N457SW', 'N463SW', 'N464SW', 'N465SW', 'N466SW', 'N471CA', 'N472CA', 'N479CA', 'N487CA', 'N494CA', 'N679SA', 'N693BR', 'N854AS', 'N856AS', 'N868AS', 'N876AS', 'N881AS', 'N900EV', 'N903EV', 'N904EV', 'N906EV', 'N908SW', 'N909SW', 'N910EV', 'N910SW', 'N912EV', 'N912SW', 'N913EV', 'N914EV', 'N915EV', 'N916EV', 'N917SW', 'N919SW', 'N920EV', 'N920SW', 'N924SW', 'N925EV', 'N925SW', 'N926SW', 'N929EV', 'N929SW', 'N930SW', 'N932EV', 'N932SW', 'N933EV', 'N937EV', 'N939SW', 'N943SW', 'N944SW', 'N945SW', 'N946SW', 'N947SW', 'N953SW', 'N954SW', 'N955SW', 'N956SW', 'N957SW', 'N958SW', 'N960SW', 'N961SW', 'N962SW', 'N963SW', 'N964SW', 'N965SW', 'N967SW', 'N969SW', 'N970SW', 'N971SW', 'N973SW', 'N975SW', 'N978SW', 'N979SW', 'N982SW', 'N983SW', 'N986SW', 'N218PS', 'N461SW', 'N496CA', 'N506CA', 'N699BR', 'N709BR', 'N878AS', 'N879AS', 'N917EV', 'N919EV', 'N928EV', 'N930EV', 'N959SW', 'N976SW', 'N980SW']\n",
    "}\n",
    "\n",
    "# Create a DataFrame for each model and concatenate them into a single DataFrame\n",
    "dfs = [create_plane_model_df(model, tail_numbers) for model, tail_numbers in express_plane_models.items()]\n",
    "df_planes_express = pd.concat(dfs, ignore_index=True)\n",
    "\n",
    "# Display the combined DataFrame\n",
    "ExpressFleet_csv_path = 'ExpressFleet.csv'\n",
    "df_planes_express.to_csv(ExpressFleet_csv_path, index=False)\n",
    "print(f\"Combined CSV file saved as '{ExpressFleet_csv_path}'\")\n"
   ],
   "id": "fa06bfb9389ec480",
   "outputs": [
    {
     "name": "stdout",
     "output_type": "stream",
     "text": [
      "Combined CSV file saved as 'ExpressFleet.csv'\n"
     ]
    }
   ],
   "execution_count": 4
  },
  {
   "metadata": {
    "ExecuteTime": {
     "end_time": "2024-05-18T07:39:04.900376Z",
     "start_time": "2024-05-18T07:39:04.798301Z"
    }
   },
   "cell_type": "code",
   "source": "",
   "id": "3afb031a1d57fc1f",
   "outputs": [
    {
     "ename": "NameError",
     "evalue": "name 'df_flights_plane' is not defined",
     "output_type": "error",
     "traceback": [
      "\u001B[0;31m---------------------------------------------------------------------------\u001B[0m",
      "\u001B[0;31mNameError\u001B[0m                                 Traceback (most recent call last)",
      "Cell \u001B[0;32mIn[5], line 2\u001B[0m\n\u001B[1;32m      1\u001B[0m \u001B[38;5;66;03m# Calculate the percentage of unique TAIL_NUM that have no model\u001B[39;00m\n\u001B[0;32m----> 2\u001B[0m unique_tail_nums \u001B[38;5;241m=\u001B[39m \u001B[43mdf_flights_plane\u001B[49m[\u001B[38;5;124m'\u001B[39m\u001B[38;5;124mTAIL_NUM\u001B[39m\u001B[38;5;124m'\u001B[39m]\u001B[38;5;241m.\u001B[39mnunique()\n\u001B[1;32m      3\u001B[0m unique_tail_nums_no_model \u001B[38;5;241m=\u001B[39m df_flights_plane[df_flights_plane[\u001B[38;5;124m'\u001B[39m\u001B[38;5;124mPLANE_MODEL\u001B[39m\u001B[38;5;124m'\u001B[39m]\u001B[38;5;241m.\u001B[39misna()][\u001B[38;5;124m'\u001B[39m\u001B[38;5;124mTAIL_NUM\u001B[39m\u001B[38;5;124m'\u001B[39m]\u001B[38;5;241m.\u001B[39mnunique()\n\u001B[1;32m      4\u001B[0m percentage_unique_no_model \u001B[38;5;241m=\u001B[39m (unique_tail_nums_no_model \u001B[38;5;241m/\u001B[39m unique_tail_nums) \u001B[38;5;241m*\u001B[39m \u001B[38;5;241m100\u001B[39m\n",
      "\u001B[0;31mNameError\u001B[0m: name 'df_flights_plane' is not defined"
     ]
    }
   ],
   "execution_count": 5
  }
 ],
 "metadata": {
  "kernelspec": {
   "display_name": "Python 3",
   "language": "python",
   "name": "python3"
  },
  "language_info": {
   "codemirror_mode": {
    "name": "ipython",
    "version": 2
   },
   "file_extension": ".py",
   "mimetype": "text/x-python",
   "name": "python",
   "nbconvert_exporter": "python",
   "pygments_lexer": "ipython2",
   "version": "2.7.6"
  }
 },
 "nbformat": 4,
 "nbformat_minor": 5
}
