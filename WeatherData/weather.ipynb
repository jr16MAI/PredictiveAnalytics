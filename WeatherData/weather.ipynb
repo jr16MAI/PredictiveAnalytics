{
  "nbformat": 4,
  "nbformat_minor": 0,
  "metadata": {
    "colab": {
      "provenance": []
    },
    "kernelspec": {
      "name": "python3",
      "display_name": "Python 3"
    },
    "language_info": {
      "name": "python"
    }
  },
  "cells": [
    {
      "cell_type": "code",
      "execution_count": null,
      "metadata": {
        "colab": {
          "base_uri": "https://localhost:8080/"
        },
        "id": "R4MwmF1yg1Ca",
        "outputId": "dc30685a-e4b9-4714-c83d-214faf58817f"
      },
      "outputs": [
        {
          "output_type": "stream",
          "name": "stdout",
          "text": [
            "Collecting openmeteo-requests\n",
            "  Downloading openmeteo_requests-1.2.0-py3-none-any.whl (5.5 kB)\n",
            "Collecting openmeteo-sdk>=1.4.0 (from openmeteo-requests)\n",
            "  Downloading openmeteo_sdk-1.11.4-py3-none-any.whl (12 kB)\n",
            "Requirement already satisfied: requests in /usr/local/lib/python3.10/dist-packages (from openmeteo-requests) (2.31.0)\n",
            "Requirement already satisfied: flatbuffers>=24.0.0 in /usr/local/lib/python3.10/dist-packages (from openmeteo-sdk>=1.4.0->openmeteo-requests) (24.3.25)\n",
            "Requirement already satisfied: charset-normalizer<4,>=2 in /usr/local/lib/python3.10/dist-packages (from requests->openmeteo-requests) (3.3.2)\n",
            "Requirement already satisfied: idna<4,>=2.5 in /usr/local/lib/python3.10/dist-packages (from requests->openmeteo-requests) (3.7)\n",
            "Requirement already satisfied: urllib3<3,>=1.21.1 in /usr/local/lib/python3.10/dist-packages (from requests->openmeteo-requests) (2.0.7)\n",
            "Requirement already satisfied: certifi>=2017.4.17 in /usr/local/lib/python3.10/dist-packages (from requests->openmeteo-requests) (2024.2.2)\n",
            "Installing collected packages: openmeteo-sdk, openmeteo-requests\n",
            "Successfully installed openmeteo-requests-1.2.0 openmeteo-sdk-1.11.4\n",
            "Collecting requests-cache\n",
            "  Downloading requests_cache-1.2.0-py3-none-any.whl (61 kB)\n",
            "\u001b[2K     \u001b[90m━━━━━━━━━━━━━━━━━━━━━━━━━━━━━━━━━━━━━━━━\u001b[0m \u001b[32m61.4/61.4 kB\u001b[0m \u001b[31m1.5 MB/s\u001b[0m eta \u001b[36m0:00:00\u001b[0m\n",
            "\u001b[?25hCollecting retry-requests\n",
            "  Downloading retry_requests-2.0.0-py3-none-any.whl (15 kB)\n",
            "Requirement already satisfied: numpy in /usr/local/lib/python3.10/dist-packages (1.25.2)\n",
            "Requirement already satisfied: pandas in /usr/local/lib/python3.10/dist-packages (2.0.3)\n",
            "Requirement already satisfied: attrs>=21.2 in /usr/local/lib/python3.10/dist-packages (from requests-cache) (23.2.0)\n",
            "Collecting cattrs>=22.2 (from requests-cache)\n",
            "  Downloading cattrs-23.2.3-py3-none-any.whl (57 kB)\n",
            "\u001b[2K     \u001b[90m━━━━━━━━━━━━━━━━━━━━━━━━━━━━━━━━━━━━━━━━\u001b[0m \u001b[32m57.5/57.5 kB\u001b[0m \u001b[31m6.6 MB/s\u001b[0m eta \u001b[36m0:00:00\u001b[0m\n",
            "\u001b[?25hRequirement already satisfied: platformdirs>=2.5 in /usr/local/lib/python3.10/dist-packages (from requests-cache) (4.2.1)\n",
            "Requirement already satisfied: requests>=2.22 in /usr/local/lib/python3.10/dist-packages (from requests-cache) (2.31.0)\n",
            "Collecting url-normalize>=1.4 (from requests-cache)\n",
            "  Downloading url_normalize-1.4.3-py2.py3-none-any.whl (6.8 kB)\n",
            "Requirement already satisfied: urllib3>=1.25.5 in /usr/local/lib/python3.10/dist-packages (from requests-cache) (2.0.7)\n",
            "Requirement already satisfied: python-dateutil>=2.8.2 in /usr/local/lib/python3.10/dist-packages (from pandas) (2.8.2)\n",
            "Requirement already satisfied: pytz>=2020.1 in /usr/local/lib/python3.10/dist-packages (from pandas) (2023.4)\n",
            "Requirement already satisfied: tzdata>=2022.1 in /usr/local/lib/python3.10/dist-packages (from pandas) (2024.1)\n",
            "Requirement already satisfied: exceptiongroup>=1.1.1 in /usr/local/lib/python3.10/dist-packages (from cattrs>=22.2->requests-cache) (1.2.1)\n",
            "Requirement already satisfied: typing-extensions!=4.6.3,>=4.1.0 in /usr/local/lib/python3.10/dist-packages (from cattrs>=22.2->requests-cache) (4.11.0)\n",
            "Requirement already satisfied: six>=1.5 in /usr/local/lib/python3.10/dist-packages (from python-dateutil>=2.8.2->pandas) (1.16.0)\n",
            "Requirement already satisfied: charset-normalizer<4,>=2 in /usr/local/lib/python3.10/dist-packages (from requests>=2.22->requests-cache) (3.3.2)\n",
            "Requirement already satisfied: idna<4,>=2.5 in /usr/local/lib/python3.10/dist-packages (from requests>=2.22->requests-cache) (3.7)\n",
            "Requirement already satisfied: certifi>=2017.4.17 in /usr/local/lib/python3.10/dist-packages (from requests>=2.22->requests-cache) (2024.2.2)\n",
            "Installing collected packages: url-normalize, cattrs, retry-requests, requests-cache\n",
            "Successfully installed cattrs-23.2.3 requests-cache-1.2.0 retry-requests-2.0.0 url-normalize-1.4.3\n"
          ]
        }
      ],
      "source": [
        "!pip install openmeteo-requests\n",
        "!pip install requests-cache retry-requests numpy pandas"
      ]
    },
    {
      "cell_type": "code",
      "source": [
        "import openmeteo_requests\n",
        "\n",
        "import requests_cache\n",
        "import pandas as pd\n",
        "from retry_requests import retry\n",
        "\n",
        "# Setup the Open-Meteo API client with cache and retry on error\n",
        "cache_session = requests_cache.CachedSession('.cache', expire_after = -1)\n",
        "retry_session = retry(cache_session, retries = 5, backoff_factor = 0.2)\n",
        "openmeteo = openmeteo_requests.Client(session = retry_session)\n",
        "\n",
        "# Make sure all required weather variables are listed here\n",
        "# The order of variables in hourly or daily is important to assign them correctly below\n",
        "url = \"https://archive-api.open-meteo.com/v1/archive\"\n",
        "params = {\n",
        "\t\"latitude\": 37.615223,\n",
        "\t\"longitude\": -122.389977,\n",
        "\t\"start_date\": \"2023-02-01\",\n",
        "\t\"end_date\": \"2024-05-18\",\n",
        "\t\"hourly\": [\"temperature_2m\",\"relative_humidity_2m\",\"precipitation\",\"pressure_msl\",\"surface_pressure\",\"cloud_cover\",\"wind_speed_10m\"]\n",
        "}\n",
        "responses = openmeteo.weather_api(url, params=params)\n",
        "\n",
        "# Process first location. Add a for-loop for multiple locations or weather models\n",
        "response = responses[0]\n",
        "print(f\"Coordinates {response.Latitude()}°N {response.Longitude()}°E\")\n",
        "print(f\"Elevation {response.Elevation()} m asl\")\n",
        "print(f\"Timezone {response.Timezone()} {response.TimezoneAbbreviation()}\")\n",
        "print(f\"Timezone difference to GMT+0 {response.UtcOffsetSeconds()} s\")\n",
        "\n",
        "# Process hourly data. The order of variables needs to be the same as requested.\n",
        "hourly = response.Hourly()\n",
        "hourly_temperature_2m = hourly.Variables(0).ValuesAsNumpy()\n",
        "hourly_relative_humidity_2m = hourly.Variables(1).ValuesAsNumpy()\n",
        "hourly_precipitation = hourly.Variables(2).ValuesAsNumpy()\n",
        "hourly_pressure_msl = hourly.Variables(3).ValuesAsNumpy()\n",
        "hourly_cloud_cover = hourly.Variables(4).ValuesAsNumpy()\n",
        "hourly_wind_speed_10m = hourly.Variables(5).ValuesAsNumpy()\n",
        "\n",
        "hourly_data = {\"date\": pd.date_range(\n",
        "\tstart = pd.to_datetime(hourly.Time(), unit = \"s\", utc = True),\n",
        "\tend = pd.to_datetime(hourly.TimeEnd(), unit = \"s\", utc = True),\n",
        "\tfreq = pd.Timedelta(seconds = hourly.Interval()),\n",
        "\tinclusive = \"left\"\n",
        ")}\n",
        "hourly_data[\"temperature_2m\"] = hourly_temperature_2m\n",
        "hourly_data[\"relative_humidity_2m\"] = hourly_relative_humidity_2m\n",
        "hourly_data[\"precipitation\"] = hourly_precipitation\n",
        "hourly_data[\"pressure_msl\"] = hourly_pressure_msl\n",
        "hourly_data[\"cloud_cover\"] = hourly_cloud_cover\n",
        "hourly_data[\"wind_speed_10m\"] = hourly_wind_speed_10m\n",
        "\n",
        "hourly_dataframe_past = pd.DataFrame(data = hourly_data)\n",
        "print(hourly_dataframe_past)"
      ],
      "metadata": {
        "colab": {
          "base_uri": "https://localhost:8080/"
        },
        "id": "Z7smVBR5g2-M",
        "outputId": "d938fff7-ab70-4ed3-bb45-9eeb6f59bc77"
      },
      "execution_count": null,
      "outputs": [
        {
          "output_type": "stream",
          "name": "stdout",
          "text": [
            "Coordinates 37.644989013671875°N -122.44325256347656°E\n",
            "Elevation 25.0 m asl\n",
            "Timezone None None\n",
            "Timezone difference to GMT+0 0 s\n",
            "                           date  temperature_2m  relative_humidity_2m  \\\n",
            "0     2023-02-01 00:00:00+00:00         12.3315             37.520824   \n",
            "1     2023-02-01 01:00:00+00:00         10.3315             59.707893   \n",
            "2     2023-02-01 02:00:00+00:00          8.4315             60.962593   \n",
            "3     2023-02-01 03:00:00+00:00          7.7815             68.920547   \n",
            "4     2023-02-01 04:00:00+00:00          7.2315             77.622498   \n",
            "...                         ...             ...                   ...   \n",
            "11347 2024-05-18 19:00:00+00:00             NaN                   NaN   \n",
            "11348 2024-05-18 20:00:00+00:00             NaN                   NaN   \n",
            "11349 2024-05-18 21:00:00+00:00             NaN                   NaN   \n",
            "11350 2024-05-18 22:00:00+00:00             NaN                   NaN   \n",
            "11351 2024-05-18 23:00:00+00:00             NaN                   NaN   \n",
            "\n",
            "       precipitation  pressure_msl  cloud_cover  wind_speed_10m  \n",
            "0                0.0   1021.099976  1018.050781        6.300000  \n",
            "1                0.0   1021.099976  1018.028992       10.500000  \n",
            "2                0.0   1021.599976  1018.506775       17.700001  \n",
            "3                0.0   1021.700012  1018.599487       29.400002  \n",
            "4                0.0   1022.000000  1018.892517       29.100000  \n",
            "...              ...           ...          ...             ...  \n",
            "11347            NaN           NaN          NaN             NaN  \n",
            "11348            NaN           NaN          NaN             NaN  \n",
            "11349            NaN           NaN          NaN             NaN  \n",
            "11350            NaN           NaN          NaN             NaN  \n",
            "11351            NaN           NaN          NaN             NaN  \n",
            "\n",
            "[11352 rows x 7 columns]\n"
          ]
        }
      ]
    },
    {
      "cell_type": "code",
      "source": [
        "# Save the daily averages data to a new CSV file\n",
        "output_file_path = 'hourly_dataframe_past.csv'  # Using a simple file name for easy download\n",
        "hourly_dataframe_past.to_csv(output_file_path, index=False)\n",
        "\n",
        "# Download the file in Google Colab\n",
        "from google.colab import files\n",
        "files.download(output_file_path)"
      ],
      "metadata": {
        "colab": {
          "base_uri": "https://localhost:8080/",
          "height": 17
        },
        "id": "5or_a7s0ohI7",
        "outputId": "344b59b2-3241-4a9f-a6bf-dc144c02b1ce"
      },
      "execution_count": null,
      "outputs": [
        {
          "output_type": "display_data",
          "data": {
            "text/plain": [
              "<IPython.core.display.Javascript object>"
            ],
            "application/javascript": [
              "\n",
              "    async function download(id, filename, size) {\n",
              "      if (!google.colab.kernel.accessAllowed) {\n",
              "        return;\n",
              "      }\n",
              "      const div = document.createElement('div');\n",
              "      const label = document.createElement('label');\n",
              "      label.textContent = `Downloading \"${filename}\": `;\n",
              "      div.appendChild(label);\n",
              "      const progress = document.createElement('progress');\n",
              "      progress.max = size;\n",
              "      div.appendChild(progress);\n",
              "      document.body.appendChild(div);\n",
              "\n",
              "      const buffers = [];\n",
              "      let downloaded = 0;\n",
              "\n",
              "      const channel = await google.colab.kernel.comms.open(id);\n",
              "      // Send a message to notify the kernel that we're ready.\n",
              "      channel.send({})\n",
              "\n",
              "      for await (const message of channel.messages) {\n",
              "        // Send a message to notify the kernel that we're ready.\n",
              "        channel.send({})\n",
              "        if (message.buffers) {\n",
              "          for (const buffer of message.buffers) {\n",
              "            buffers.push(buffer);\n",
              "            downloaded += buffer.byteLength;\n",
              "            progress.value = downloaded;\n",
              "          }\n",
              "        }\n",
              "      }\n",
              "      const blob = new Blob(buffers, {type: 'application/binary'});\n",
              "      const a = document.createElement('a');\n",
              "      a.href = window.URL.createObjectURL(blob);\n",
              "      a.download = filename;\n",
              "      div.appendChild(a);\n",
              "      a.click();\n",
              "      div.remove();\n",
              "    }\n",
              "  "
            ]
          },
          "metadata": {}
        },
        {
          "output_type": "display_data",
          "data": {
            "text/plain": [
              "<IPython.core.display.Javascript object>"
            ],
            "application/javascript": [
              "download(\"download_89befe0c-d474-4a4d-9451-a91f5544658d\", \"hourly_dataframe_past.csv\", 798211)"
            ]
          },
          "metadata": {}
        }
      ]
    },
    {
      "cell_type": "code",
      "source": [
        "# Setup the Open-Meteo API client with cache and retry on error\n",
        "cache_session = requests_cache.CachedSession('.cache', expire_after = -1)\n",
        "retry_session = retry(cache_session, retries = 5, backoff_factor = 0.2)\n",
        "openmeteo = openmeteo_requests.Client(session = retry_session)\n",
        "\n",
        "# Make sure all required weather variables are listed here\n",
        "# The order of variables in hourly or daily is important to assign them correctly below\n",
        "url = \"https://api.open-meteo.com/v1/forecast\"\n",
        "params = {\n",
        "\t\"latitude\": 37.615223,\n",
        "\t\"longitude\": -122.389977,\n",
        "\t\"hourly\": [\"temperature_2m\",\"relative_humidity_2m\",\"precipitation\",\"pressure_msl\",\"surface_pressure\",\"cloud_cover\",\"wind_speed_10m\"],\n",
        "\t\"forecast_days\": 16,\n",
        "  \"timezone\": \"UTC\"\n",
        "}\n",
        "responses = openmeteo.weather_api(url, params=params)\n",
        "\n",
        "# Process first location. Add a for-loop for multiple locations or weather models\n",
        "response = responses[0]\n",
        "print(f\"Coordinates {response.Latitude()}°N {response.Longitude()}°E\")\n",
        "print(f\"Elevation {response.Elevation()} m asl\")\n",
        "print(f\"Timezone {response.Timezone()} {response.TimezoneAbbreviation()}\")\n",
        "print(f\"Timezone difference to GMT+0 {response.UtcOffsetSeconds()} s\")\n",
        "\n",
        "# Process hourly data. The order of variables needs to be the same as requested.\n",
        "hourly = response.Hourly()\n",
        "hourly_temperature_2m = hourly.Variables(0).ValuesAsNumpy()\n",
        "hourly_relative_humidity_2m = hourly.Variables(1).ValuesAsNumpy()\n",
        "hourly_precipitation = hourly.Variables(2).ValuesAsNumpy()\n",
        "hourly_pressure_msl = hourly.Variables(3).ValuesAsNumpy()\n",
        "hourly_cloud_cover = hourly.Variables(4).ValuesAsNumpy()\n",
        "hourly_wind_speed_10m = hourly.Variables(5).ValuesAsNumpy()\n",
        "\n",
        "hourly_data = {\"date\": pd.date_range(\n",
        "\tstart = pd.to_datetime(hourly.Time(), unit = \"s\", utc = True),\n",
        "\tend = pd.to_datetime(hourly.TimeEnd(), unit = \"s\", utc = True),\n",
        "\tfreq = pd.Timedelta(seconds = hourly.Interval()),\n",
        "\tinclusive = \"left\"\n",
        ")}\n",
        "hourly_data[\"temperature_2m\"] = hourly_temperature_2m\n",
        "hourly_data[\"relative_humidity_2m\"] = hourly_relative_humidity_2m\n",
        "hourly_data[\"precipitation\"] = hourly_precipitation\n",
        "hourly_data[\"pressure_msl\"] = hourly_pressure_msl\n",
        "hourly_data[\"cloud_cover\"] = hourly_cloud_cover\n",
        "hourly_data[\"wind_speed_10m\"] = hourly_wind_speed_10m\n",
        "\n",
        "\n",
        "hourly_dataframe_forecast = pd.DataFrame(data = hourly_data)\n",
        "print(hourly_dataframe_forecast)"
      ],
      "metadata": {
        "colab": {
          "base_uri": "https://localhost:8080/"
        },
        "id": "stiw4e_1ooo5",
        "outputId": "226743d4-0a04-476e-c493-70d8d4ac094e"
      },
      "execution_count": null,
      "outputs": [
        {
          "output_type": "stream",
          "name": "stdout",
          "text": [
            "Coordinates 37.62610626220703°N -122.40017700195312°E\n",
            "Elevation 25.0 m asl\n",
            "Timezone b'UTC' b'UTC'\n",
            "Timezone difference to GMT+0 0 s\n",
            "                         date  temperature_2m  relative_humidity_2m  \\\n",
            "0   2024-05-18 00:00:00+00:00       17.507000                  73.0   \n",
            "1   2024-05-18 01:00:00+00:00       15.907000                  75.0   \n",
            "2   2024-05-18 02:00:00+00:00       15.207001                  77.0   \n",
            "3   2024-05-18 03:00:00+00:00       13.707001                  79.0   \n",
            "4   2024-05-18 04:00:00+00:00       12.707001                  79.0   \n",
            "..                        ...             ...                   ...   \n",
            "379 2024-06-02 19:00:00+00:00             NaN                   NaN   \n",
            "380 2024-06-02 20:00:00+00:00             NaN                   NaN   \n",
            "381 2024-06-02 21:00:00+00:00             NaN                   NaN   \n",
            "382 2024-06-02 22:00:00+00:00             NaN                   NaN   \n",
            "383 2024-06-02 23:00:00+00:00             NaN                   NaN   \n",
            "\n",
            "     precipitation  pressure_msl  cloud_cover  wind_speed_10m  \n",
            "0              0.0   1012.500000  1009.529907             5.0  \n",
            "1              0.0   1012.299988  1009.314392           100.0  \n",
            "2              0.0   1012.099976  1009.107666           100.0  \n",
            "3              0.0   1012.099976  1009.091797           100.0  \n",
            "4              0.0   1012.500000  1009.480225             3.0  \n",
            "..             ...           ...          ...             ...  \n",
            "379            NaN           NaN          NaN             NaN  \n",
            "380            NaN           NaN          NaN             NaN  \n",
            "381            NaN           NaN          NaN             NaN  \n",
            "382            NaN           NaN          NaN             NaN  \n",
            "383            NaN           NaN          NaN             NaN  \n",
            "\n",
            "[384 rows x 7 columns]\n"
          ]
        }
      ]
    },
    {
      "cell_type": "code",
      "source": [
        "# Save the daily averages data to a new CSV file\n",
        "output_file_path = 'hourly_dataframe_forecast.csv'  # Using a simple file name for easy download\n",
        "hourly_dataframe_forecast.to_csv(output_file_path, index=False)\n",
        "\n",
        "# Download the file in Google Colab\n",
        "from google.colab import files\n",
        "files.download(output_file_path)"
      ],
      "metadata": {
        "colab": {
          "base_uri": "https://localhost:8080/",
          "height": 17
        },
        "id": "T58KUssjpILY",
        "outputId": "829f3c0e-1895-41c2-fb08-70ad6095c8a0"
      },
      "execution_count": null,
      "outputs": [
        {
          "output_type": "display_data",
          "data": {
            "text/plain": [
              "<IPython.core.display.Javascript object>"
            ],
            "application/javascript": [
              "\n",
              "    async function download(id, filename, size) {\n",
              "      if (!google.colab.kernel.accessAllowed) {\n",
              "        return;\n",
              "      }\n",
              "      const div = document.createElement('div');\n",
              "      const label = document.createElement('label');\n",
              "      label.textContent = `Downloading \"${filename}\": `;\n",
              "      div.appendChild(label);\n",
              "      const progress = document.createElement('progress');\n",
              "      progress.max = size;\n",
              "      div.appendChild(progress);\n",
              "      document.body.appendChild(div);\n",
              "\n",
              "      const buffers = [];\n",
              "      let downloaded = 0;\n",
              "\n",
              "      const channel = await google.colab.kernel.comms.open(id);\n",
              "      // Send a message to notify the kernel that we're ready.\n",
              "      channel.send({})\n",
              "\n",
              "      for await (const message of channel.messages) {\n",
              "        // Send a message to notify the kernel that we're ready.\n",
              "        channel.send({})\n",
              "        if (message.buffers) {\n",
              "          for (const buffer of message.buffers) {\n",
              "            buffers.push(buffer);\n",
              "            downloaded += buffer.byteLength;\n",
              "            progress.value = downloaded;\n",
              "          }\n",
              "        }\n",
              "      }\n",
              "      const blob = new Blob(buffers, {type: 'application/binary'});\n",
              "      const a = document.createElement('a');\n",
              "      a.href = window.URL.createObjectURL(blob);\n",
              "      a.download = filename;\n",
              "      div.appendChild(a);\n",
              "      a.click();\n",
              "      div.remove();\n",
              "    }\n",
              "  "
            ]
          },
          "metadata": {}
        },
        {
          "output_type": "display_data",
          "data": {
            "text/plain": [
              "<IPython.core.display.Javascript object>"
            ],
            "application/javascript": [
              "download(\"download_46409685-e48e-490a-84ef-c5b812b79573\", \"hourly_dataframe_forecast.csv\", 25108)"
            ]
          },
          "metadata": {}
        }
      ]
    }
  ]
}